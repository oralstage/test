{
 "cells": [
  {
   "cell_type": "markdown",
   "id": "efcae126-436f-4e07-a4bc-9449c16101bc",
   "metadata": {},
   "source": [
    "# タイムスタンプと、データも同時に取得する"
   ]
  },
  {
   "cell_type": "markdown",
   "id": "2470fa18-d26a-4a7e-94c9-88f436a1ffc5",
   "metadata": {},
   "source": [
    "## おまじない"
   ]
  },
  {
   "cell_type": "code",
   "execution_count": 1,
   "id": "c3b27a3a-6b68-4a36-8700-3a2d5f66f115",
   "metadata": {},
   "outputs": [],
   "source": [
    "import numpy as np\n",
    "import pandas as pd\n",
    "import matplotlib.pyplot as plt\n",
    "import glob\n",
    "import os\n",
    "import re\n",
    "from PIL import Image, ImageOps\n",
    "import matplotlib.patches as patches"
   ]
  },
  {
   "cell_type": "code",
   "execution_count": 2,
   "id": "00e23766-d433-4e75-813e-d3933f2f0d97",
   "metadata": {},
   "outputs": [
    {
     "name": "stdout",
     "output_type": "stream",
     "text": [
      "Will use tool 'Tesseract (sh)'\n",
      "Available languages: afr, amh, ara, asm, aze, aze_cyrl, bel, ben, bod, bos, bre, bul, cat, ceb, ces, chi_sim, chi_sim_vert, chi_tra, chi_tra_vert, chr, cos, cym, dan, deu, div, dzo, ell, eng, enm, epo, est, eus, fao, fas, fil, fin, fra, frk, frm, fry, gla, gle, glg, grc, guj, hat, heb, hin, hrv, hun, hye, iku, ind, isl, ita, ita_old, jav, jpn, jpn_vert, kan, kat, kat_old, kaz, khm, kir, kmr, kor, kor_vert, lao, lat, lav, lit, ltz, mal, mar, mkd, mlt, mon, mri, msa, mya, nep, nld, nor, oci, ori, osd, pan, pol, por, pus, que, ron, rus, san, script/Arabic, script/Armenian, script/Bengali, script/Canadian_Aboriginal, script/Cherokee, script/Cyrillic, script/Devanagari, script/Ethiopic, script/Fraktur, script/Georgian, script/Greek, script/Gujarati, script/Gurmukhi, script/HanS, script/HanS_vert, script/HanT, script/HanT_vert, script/Hangul, script/Hangul_vert, script/Hebrew, script/Japanese, script/Japanese_vert, script/Kannada, script/Khmer, script/Lao, script/Latin, script/Malayalam, script/Myanmar, script/Oriya, script/Sinhala, script/Syriac, script/Tamil, script/Telugu, script/Thaana, script/Thai, script/Tibetan, script/Vietnamese, sin, slk, slv, snd, spa, spa_old, sqi, srp, srp_latn, sun, swa, swe, syr, tam, tat, tel, tgk, tha, tir, ton, tur, uig, ukr, urd, uzb, uzb_cyrl, vie, yid, yor\n",
      "Will use lang 'afr'\n"
     ]
    }
   ],
   "source": [
    "from PIL import Image\n",
    "import sys\n",
    "\n",
    "import pyocr\n",
    "import pyocr.builders\n",
    "\n",
    "tools = pyocr.get_available_tools()\n",
    "if len(tools) == 0:\n",
    "    print(\"No OCR tool found\")\n",
    "    sys.exit(1)\n",
    "# The tools are returned in the recommended order of usage\n",
    "tool = tools[0]\n",
    "print(\"Will use tool '%s'\" % (tool.get_name()))\n",
    "# Ex: Will use tool 'libtesseract'\n",
    "\n",
    "langs = tool.get_available_languages()\n",
    "print(\"Available languages: %s\" % \", \".join(langs))\n",
    "lang = langs[0]\n",
    "print(\"Will use lang '%s'\" % (lang))\n",
    "# Ex: Will use lang 'fra'\n",
    "# Note that languages are NOT sorted in any way. Please refer\n",
    "# to the system locale settings for the default language\n",
    "# to use."
   ]
  },
  {
   "cell_type": "code",
   "execution_count": 3,
   "id": "57fbcaa7-d9fd-46cf-92be-f8b34033b025",
   "metadata": {},
   "outputs": [],
   "source": [
    "# tiffが16bitだとocrが上手くいかない -> 8bitに変換する\n",
    "def tiff_force_8bit(image, **kwargs):\n",
    "    if image.format == 'TIFF' and image.mode == 'I;16':\n",
    "        array = np.array(image)\n",
    "        normalized = (array.astype(np.uint16) - array.min()) * 255.0 / (array.max() - array.min())\n",
    "        image = Image.fromarray(normalized.astype(np.uint8))\n",
    "\n",
    "    return image\n",
    "\n",
    "#hhmmssをsecに変換する\n",
    "def convert_hhmmss2sec(time_hhmmss) :\n",
    "    time_hh = np.floor(time_hhmmss * 1e-4)\n",
    "    time_mm = np.floor((time_hhmmss - time_hh * 1e4) * 1e-2)\n",
    "    time_ss = time_hhmmss - time_hh * 1e4 - time_mm * 1e2\n",
    "    return time_hh * 3600 + time_mm * 60 + time_ss\n",
    "\n",
    "#file nameを連番に読み込むためのおまじない\n",
    "def atoi(text):\n",
    "    return int(text) if text.isdigit() else text\n",
    "\n",
    "def natural_keys(text):\n",
    "    return [ atoi(c) for c in re.split(r'(\\d+)', text) ]"
   ]
  },
  {
   "cell_type": "markdown",
   "id": "a94b3f82-1a81-4dcb-bca9-e70ad7c16d3e",
   "metadata": {},
   "source": [
    "## データのフォルダを指定する"
   ]
  },
  {
   "cell_type": "code",
   "execution_count": 6,
   "id": "80a519fc-a78f-42a8-bea5-f4d503e69fbc",
   "metadata": {},
   "outputs": [],
   "source": [
    "#dirname = 'C:\\\\Jup\\\\190422_015428\\\\'\n",
    "dirname = '/Users/keisuke/Dropbox/2021_36/20211221_134601 sns hbn 2-1 1hr-q 500pps 0-360deg 1s 3mW_nagashio'\n",
    "\n",
    "filename ='*.tif'\n",
    "filelist = sorted(glob.glob(os.path.join(dirname, filename)), key=natural_keys)\n",
    "#print(filelist[0])"
   ]
  },
  {
   "cell_type": "markdown",
   "id": "91d032e3-cf34-40ac-ae26-7377e77c3633",
   "metadata": {},
   "source": [
    "## 画像の解析個所を確認する"
   ]
  },
  {
   "cell_type": "code",
   "execution_count": 1,
   "id": "55ebb57d-a2d8-4ceb-bdf2-d59fef2a8766",
   "metadata": {},
   "outputs": [
    {
     "ename": "NameError",
     "evalue": "name 'Image' is not defined",
     "output_type": "error",
     "traceback": [
      "\u001b[0;31m---------------------------------------------------------------------------\u001b[0m",
      "\u001b[0;31mNameError\u001b[0m                                 Traceback (most recent call last)",
      "Input \u001b[0;32mIn [1]\u001b[0m, in \u001b[0;36m<cell line: 8>\u001b[0;34m()\u001b[0m\n\u001b[1;32m      5\u001b[0m xsize_timestamp \u001b[38;5;241m=\u001b[39m x_timestamp2 \u001b[38;5;241m-\u001b[39m x_timestamp1\n\u001b[1;32m      6\u001b[0m ysize_timestamp \u001b[38;5;241m=\u001b[39m y_timestamp2 \u001b[38;5;241m-\u001b[39m y_timestamp1\n\u001b[0;32m----> 8\u001b[0m image \u001b[38;5;241m=\u001b[39m \u001b[43mImage\u001b[49m\u001b[38;5;241m.\u001b[39mopen(filelist[\u001b[38;5;241m10\u001b[39m])\n\u001b[1;32m      9\u001b[0m xmax, ymax \u001b[38;5;241m=\u001b[39m image\u001b[38;5;241m.\u001b[39msize\n\u001b[1;32m     11\u001b[0m \u001b[38;5;66;03m#image.show()\u001b[39;00m\n",
      "\u001b[0;31mNameError\u001b[0m: name 'Image' is not defined"
     ]
    }
   ],
   "source": [
    "x_timestamp1 = 77\n",
    "y_timestamp1 = 6\n",
    "x_timestamp2 = 183\n",
    "y_timestamp2 = 26\n",
    "xsize_timestamp = x_timestamp2 - x_timestamp1\n",
    "ysize_timestamp = y_timestamp2 - y_timestamp1\n",
    "\n",
    "image = Image.open(filelist[10])\n",
    "xmax, ymax = image.size\n",
    "    \n",
    "#image.show()\n",
    "plt.imshow(image)\n",
    "ax = plt.gca()\n",
    "\n",
    "x1 = 50\n",
    "y1 = 75\n",
    "x2 = 100\n",
    "y2 = 125\n",
    "\n",
    "xsize = x2-x1\n",
    "ysize = y2-y1\n",
    "rect0 = patches.Rectangle((x_timestamp1, y_timestamp1),xsize_timestamp,ysize_timestamp, linewidth=2,edgecolor='white', fill = False)\n",
    "rect1 = patches.Rectangle((x1, y1),xsize,ysize, linewidth=2,edgecolor='cyan', fill = False)\n",
    "rect2 = patches.Rectangle((xmax-xsize-1, ymax-ysize-1),xsize,ysize, linewidth=2,edgecolor='m', fill = False)\n",
    "\n",
    "ax.add_patch(rect0)\n",
    "ax.add_patch(rect1)\n",
    "ax.add_patch(rect2)\n",
    "plt.show()"
   ]
  },
  {
   "cell_type": "markdown",
   "id": "c6202c3b-0bdf-4e2f-8588-b93d99d59034",
   "metadata": {},
   "source": [
    "## データのよみとり"
   ]
  },
  {
   "cell_type": "code",
   "execution_count": 14,
   "id": "12cd1165-ccb2-4887-ad00-5cfac86ecbde",
   "metadata": {},
   "outputs": [
    {
     "name": "stdout",
     "output_type": "stream",
     "text": [
      "0 %\n",
      "9 %\n",
      "19 %\n",
      "29 %\n",
      "39 %\n",
      "49 %\n",
      "58 %\n",
      "68 %\n",
      "78 %\n",
      "88 %\n",
      "98 %\n"
     ]
    }
   ],
   "source": [
    "time_hhmmss_ndarray = np.zeros(len(filelist))\n",
    "Values_ndarray = np.zeros(len(filelist))\n",
    "\n",
    "pixelsize = abs((x2-x1+1) * (y2-y1+1) )\n",
    "\n",
    "i = 0\n",
    "for file in filelist:\n",
    "    image = Image.open(file)\n",
    "    Values = 0\n",
    "    bg = 0\n",
    "\n",
    "    for x in range(x1, x2, 1):\n",
    "        for y in range(y1, y2, 1):\n",
    "            Values += image.getpixel((x, y))\n",
    "            bg += image.getpixel((xmax-x2 + x, ymax-y2 + y))\n",
    "    Values_ndarray[i] = (Values-bg)/pixelsize\n",
    "\n",
    "    res = tiff_force_8bit(image).crop((x_timestamp1, y_timestamp1, x_timestamp2, y_timestamp2))\n",
    "    img_box = ImageOps.invert(res)\n",
    "    txt = tool.image_to_string(img_box, lang='eng', builder=pyocr.builders.DigitBuilder(tesseract_layout=6))\n",
    "\n",
    "    time_hhmmss_ndarray[i] = float(txt.replace(' ', '').replace('  ', ''))\n",
    "    if i% (np.floor(len(filelist)/10))==0 : print(f'{np.floor(100 * i/len(filelist)):.0f} %')\n",
    "    i+=1"
   ]
  },
  {
   "cell_type": "code",
   "execution_count": 15,
   "id": "4bcc60a2-62bb-4743-aab4-e0bfe4131f51",
   "metadata": {},
   "outputs": [
    {
     "data": {
      "text/html": [
       "<div>\n",
       "<style scoped>\n",
       "    .dataframe tbody tr th:only-of-type {\n",
       "        vertical-align: middle;\n",
       "    }\n",
       "\n",
       "    .dataframe tbody tr th {\n",
       "        vertical-align: top;\n",
       "    }\n",
       "\n",
       "    .dataframe thead th {\n",
       "        text-align: right;\n",
       "    }\n",
       "</style>\n",
       "<table border=\"1\" class=\"dataframe\">\n",
       "  <thead>\n",
       "    <tr style=\"text-align: right;\">\n",
       "      <th></th>\n",
       "      <th>Values</th>\n",
       "      <th>time_s</th>\n",
       "    </tr>\n",
       "  </thead>\n",
       "  <tbody>\n",
       "    <tr>\n",
       "      <th>0</th>\n",
       "      <td>9252.099962</td>\n",
       "      <td>0.000</td>\n",
       "    </tr>\n",
       "    <tr>\n",
       "      <th>1</th>\n",
       "      <td>9184.704344</td>\n",
       "      <td>1.010</td>\n",
       "    </tr>\n",
       "    <tr>\n",
       "      <th>2</th>\n",
       "      <td>9262.125336</td>\n",
       "      <td>2.024</td>\n",
       "    </tr>\n",
       "  </tbody>\n",
       "</table>\n",
       "</div>"
      ],
      "text/plain": [
       "        Values  time_s\n",
       "0  9252.099962   0.000\n",
       "1  9184.704344   1.010\n",
       "2  9262.125336   2.024"
      ]
     },
     "execution_count": 15,
     "metadata": {},
     "output_type": "execute_result"
    }
   ],
   "source": [
    "df = pd.DataFrame(Values_ndarray)\n",
    "df.columns = ['Values']\n",
    "df['time_s'] = pd.DataFrame(convert_hhmmss2sec(time_hhmmss_ndarray)-convert_hhmmss2sec(time_hhmmss_ndarray[0]))\n",
    "df.head(3)"
   ]
  },
  {
   "cell_type": "markdown",
   "id": "e746e2be-34e6-43a6-a292-cb8a355b06ce",
   "metadata": {},
   "source": [
    "##　データの確認"
   ]
  },
  {
   "cell_type": "code",
   "execution_count": 16,
   "id": "fefb5724-b0c2-4a62-9ae6-607addbe614c",
   "metadata": {},
   "outputs": [
    {
     "data": {
      "text/plain": [
       "Text(0, 0.5, 'exposure time (s)')"
      ]
     },
     "execution_count": 16,
     "metadata": {},
     "output_type": "execute_result"
    },
    {
     "data": {
      "image/png": "[encoded data removed]",
      "text/plain": [
       "<Figure size 432x288 with 1 Axes>"
      ]
     },
     "metadata": {
      "needs_background": "light"
     },
     "output_type": "display_data"
    }
   ],
   "source": [
    "ax = df['time_s'].diff().plot(ylim=[0, df['time_s'].diff().max()*1.2])\n",
    "ax.set_xlabel('point')\n",
    "ax.set_ylabel('exposure time (s)')"
   ]
  },
  {
   "cell_type": "markdown",
   "id": "36bef4e9-2539-4aa3-8ea6-c9c82cbb3b2e",
   "metadata": {},
   "source": [
    "## データのいったん保存"
   ]
  },
  {
   "cell_type": "code",
   "execution_count": 17,
   "id": "f4a96ddc-9972-46fd-becd-20728557ca52",
   "metadata": {},
   "outputs": [
    {
     "data": {
      "text/html": [
       "<div>\n",
       "<style scoped>\n",
       "    .dataframe tbody tr th:only-of-type {\n",
       "        vertical-align: middle;\n",
       "    }\n",
       "\n",
       "    .dataframe tbody tr th {\n",
       "        vertical-align: top;\n",
       "    }\n",
       "\n",
       "    .dataframe thead th {\n",
       "        text-align: right;\n",
       "    }\n",
       "</style>\n",
       "<table border=\"1\" class=\"dataframe\">\n",
       "  <thead>\n",
       "    <tr style=\"text-align: right;\">\n",
       "      <th></th>\n",
       "      <th>Values</th>\n",
       "      <th>time_s</th>\n",
       "    </tr>\n",
       "  </thead>\n",
       "  <tbody>\n",
       "    <tr>\n",
       "      <th>0</th>\n",
       "      <td>9252.099962</td>\n",
       "      <td>0.000</td>\n",
       "    </tr>\n",
       "    <tr>\n",
       "      <th>1</th>\n",
       "      <td>9184.704344</td>\n",
       "      <td>1.010</td>\n",
       "    </tr>\n",
       "    <tr>\n",
       "      <th>2</th>\n",
       "      <td>9262.125336</td>\n",
       "      <td>2.024</td>\n",
       "    </tr>\n",
       "    <tr>\n",
       "      <th>3</th>\n",
       "      <td>9307.821607</td>\n",
       "      <td>3.039</td>\n",
       "    </tr>\n",
       "    <tr>\n",
       "      <th>4</th>\n",
       "      <td>9932.873510</td>\n",
       "      <td>4.049</td>\n",
       "    </tr>\n",
       "    <tr>\n",
       "      <th>...</th>\n",
       "      <td>...</td>\n",
       "      <td>...</td>\n",
       "    </tr>\n",
       "    <tr>\n",
       "      <th>158</th>\n",
       "      <td>11612.953479</td>\n",
       "      <td>160.463</td>\n",
       "    </tr>\n",
       "    <tr>\n",
       "      <th>159</th>\n",
       "      <td>11339.044983</td>\n",
       "      <td>161.483</td>\n",
       "    </tr>\n",
       "    <tr>\n",
       "      <th>160</th>\n",
       "      <td>11302.120723</td>\n",
       "      <td>162.497</td>\n",
       "    </tr>\n",
       "    <tr>\n",
       "      <th>161</th>\n",
       "      <td>11413.165705</td>\n",
       "      <td>163.509</td>\n",
       "    </tr>\n",
       "    <tr>\n",
       "      <th>162</th>\n",
       "      <td>11345.754710</td>\n",
       "      <td>164.522</td>\n",
       "    </tr>\n",
       "  </tbody>\n",
       "</table>\n",
       "<p>163 rows × 2 columns</p>\n",
       "</div>"
      ],
      "text/plain": [
       "           Values   time_s\n",
       "0     9252.099962    0.000\n",
       "1     9184.704344    1.010\n",
       "2     9262.125336    2.024\n",
       "3     9307.821607    3.039\n",
       "4     9932.873510    4.049\n",
       "..            ...      ...\n",
       "158  11612.953479  160.463\n",
       "159  11339.044983  161.483\n",
       "160  11302.120723  162.497\n",
       "161  11413.165705  163.509\n",
       "162  11345.754710  164.522\n",
       "\n",
       "[163 rows x 2 columns]"
      ]
     },
     "execution_count": 17,
     "metadata": {},
     "output_type": "execute_result"
    }
   ],
   "source": [
    "filename ='rawdata.csv'\n",
    "outfile = os.path.join(dirname, filename)\n",
    "df.to_csv(outfile, index = False)\n",
    "df"
   ]
  },
  {
   "cell_type": "markdown",
   "id": "46bcf037-5651-4cd6-98c3-6d3cf14c4681",
   "metadata": {},
   "source": [
    "# SHGを解析する"
   ]
  },
  {
   "cell_type": "markdown",
   "id": "ca9364b2-a96d-4cd2-85ca-a0b514706c87",
   "metadata": {},
   "source": [
    "## 実験条件"
   ]
  },
  {
   "cell_type": "code",
   "execution_count": 27,
   "id": "1f2e7264-0184-4b72-a95d-3d3e074f6328",
   "metadata": {},
   "outputs": [],
   "source": [
    "speed_degs = 2.5 # degree/s, if it is pps, devide by 200\n",
    "totalangle_theta = 360"
   ]
  },
  {
   "cell_type": "markdown",
   "id": "a569884a-50e1-4e3f-989d-6a7d07b41ac8",
   "metadata": {},
   "source": [
    "## 実験データの読み込み"
   ]
  },
  {
   "cell_type": "code",
   "execution_count": 28,
   "id": "0e6402f0-bf19-4d3e-9a85-6325c52d2b03",
   "metadata": {},
   "outputs": [
    {
     "data": {
      "text/html": [
       "<div>\n",
       "<style scoped>\n",
       "    .dataframe tbody tr th:only-of-type {\n",
       "        vertical-align: middle;\n",
       "    }\n",
       "\n",
       "    .dataframe tbody tr th {\n",
       "        vertical-align: top;\n",
       "    }\n",
       "\n",
       "    .dataframe thead th {\n",
       "        text-align: right;\n",
       "    }\n",
       "</style>\n",
       "<table border=\"1\" class=\"dataframe\">\n",
       "  <thead>\n",
       "    <tr style=\"text-align: right;\">\n",
       "      <th></th>\n",
       "      <th>Values</th>\n",
       "      <th>time_s</th>\n",
       "    </tr>\n",
       "  </thead>\n",
       "  <tbody>\n",
       "    <tr>\n",
       "      <th>0</th>\n",
       "      <td>9252.099962</td>\n",
       "      <td>0.000</td>\n",
       "    </tr>\n",
       "    <tr>\n",
       "      <th>1</th>\n",
       "      <td>9184.704344</td>\n",
       "      <td>1.010</td>\n",
       "    </tr>\n",
       "    <tr>\n",
       "      <th>2</th>\n",
       "      <td>9262.125336</td>\n",
       "      <td>2.024</td>\n",
       "    </tr>\n",
       "    <tr>\n",
       "      <th>3</th>\n",
       "      <td>9307.821607</td>\n",
       "      <td>3.039</td>\n",
       "    </tr>\n",
       "    <tr>\n",
       "      <th>4</th>\n",
       "      <td>9932.873510</td>\n",
       "      <td>4.049</td>\n",
       "    </tr>\n",
       "    <tr>\n",
       "      <th>...</th>\n",
       "      <td>...</td>\n",
       "      <td>...</td>\n",
       "    </tr>\n",
       "    <tr>\n",
       "      <th>158</th>\n",
       "      <td>11612.953479</td>\n",
       "      <td>160.463</td>\n",
       "    </tr>\n",
       "    <tr>\n",
       "      <th>159</th>\n",
       "      <td>11339.044983</td>\n",
       "      <td>161.483</td>\n",
       "    </tr>\n",
       "    <tr>\n",
       "      <th>160</th>\n",
       "      <td>11302.120723</td>\n",
       "      <td>162.497</td>\n",
       "    </tr>\n",
       "    <tr>\n",
       "      <th>161</th>\n",
       "      <td>11413.165705</td>\n",
       "      <td>163.509</td>\n",
       "    </tr>\n",
       "    <tr>\n",
       "      <th>162</th>\n",
       "      <td>11345.754710</td>\n",
       "      <td>164.522</td>\n",
       "    </tr>\n",
       "  </tbody>\n",
       "</table>\n",
       "<p>163 rows × 2 columns</p>\n",
       "</div>"
      ],
      "text/plain": [
       "           Values   time_s\n",
       "0     9252.099962    0.000\n",
       "1     9184.704344    1.010\n",
       "2     9262.125336    2.024\n",
       "3     9307.821607    3.039\n",
       "4     9932.873510    4.049\n",
       "..            ...      ...\n",
       "158  11612.953479  160.463\n",
       "159  11339.044983  161.483\n",
       "160  11302.120723  162.497\n",
       "161  11413.165705  163.509\n",
       "162  11345.754710  164.522\n",
       "\n",
       "[163 rows x 2 columns]"
      ]
     },
     "execution_count": 28,
     "metadata": {},
     "output_type": "execute_result"
    }
   ],
   "source": [
    "filename ='rawdata.csv'\n",
    "filepath = os.path.join(dirname, filename)\n",
    "df = pd.read_csv(filepath)\n",
    "df"
   ]
  },
  {
   "cell_type": "code",
   "execution_count": 29,
   "id": "6b65623f-eb9e-4921-81ce-4b1af86ebec9",
   "metadata": {},
   "outputs": [],
   "source": [
    "data = df['Values'].to_numpy()\n",
    "time_s = df['time_s'].to_numpy()\n",
    "time_i = np.arange(len(time_s))"
   ]
  },
  {
   "cell_type": "code",
   "execution_count": 30,
   "id": "8f34b4ee-b0cf-40d0-9f22-68158140a737",
   "metadata": {},
   "outputs": [],
   "source": [
    "pmax=np.argmax(np.append(0,np.diff(data))[0:20])\n",
    "pmin=np.argmin(np.append(0,np.diff(data))[0:20])\n",
    "point1 = pmax if (pmax < pmin) else pmin\n",
    "point2 = pmax if (pmax > pmin) else pmin"
   ]
  },
  {
   "cell_type": "markdown",
   "id": "84075f11-1a1f-4e2b-8de0-12827cfe8ba9",
   "metadata": {},
   "source": [
    "## データを確認してジャンプを探す推測する"
   ]
  },
  {
   "cell_type": "code",
   "execution_count": 31,
   "id": "a36ac75d-298d-4126-ae3a-ee0c28870b28",
   "metadata": {},
   "outputs": [
    {
     "data": {
      "image/png": "[encoded data removed]",
      "text/plain": [
       "<Figure size 720x216 with 2 Axes>"
      ]
     },
     "metadata": {
      "needs_background": "light"
     },
     "output_type": "display_data"
    }
   ],
   "source": [
    "fig = plt.figure(figsize=(10,3))\n",
    "ax1 = fig.add_subplot(1,2,1)\n",
    "ax1.plot(time_s, data,zorder = 1)\n",
    "ax1.scatter(time_s[point2], data[point2], color = 'm', s=50, zorder = 2)\n",
    "ax1.scatter(time_s[point1], data[point1], color = 'c', s=50, zorder = 3)\n",
    "ax1.set_xlabel('real time (s)')\n",
    "ax1.set_ylabel('shg signal')\n",
    "\n",
    "ax2 = fig.add_subplot(1,2,2)\n",
    "\n",
    "ax2.plot(time_i, data, '-o', zorder = 1, label = 'data')\n",
    "ax2.scatter(time_i[point1], data[point1], color = 'c', s=100, zorder = 2, label=f'p1(guess)={point1}')\n",
    "ax2.scatter(time_i[point2], data[point2], color = 'm', s=100, zorder = 3, label=f'p2(guess)={point2}')\n",
    "\n",
    "ax2.grid()\n",
    "ax2.legend()\n",
    "ax2.set_xlim(-1,point2*1.4)\n",
    "#ax2.set_ylim(0,5200)\n",
    "ax2.set_xlabel('point')\n",
    "ax2.set_ylabel('shg signal')\n",
    "\n",
    "plt.tight_layout()\n",
    "plt.show()"
   ]
  },
  {
   "cell_type": "markdown",
   "id": "846fff60-d261-49cd-a330-a8959109ca93",
   "metadata": {},
   "source": [
    "## ジャンプの位置を自分で入力する"
   ]
  },
  {
   "cell_type": "code",
   "execution_count": 32,
   "id": "7f5b54bf-2d4b-4a48-9828-47f7834bb626",
   "metadata": {},
   "outputs": [
    {
     "name": "stdout",
     "output_type": "stream",
     "text": [
      "exposure time is 1.9 sec.\n",
      "waiting time is 7.61 sec\n"
     ]
    }
   ],
   "source": [
    "point1 = 4\n",
    "point2 = 7\n",
    "\n",
    "angle_theta = speed_degs * (time_s - time_s[(point2 * 2 - point1 -1)])\n",
    "print(f'exposure time is {speed_degs * (time_s[point2] - time_s[point1])/4:.3g} sec.')\n",
    "print(f'waiting time is {speed_degs * (time_s[point2] - time_s[point1]):.3g} sec')"
   ]
  },
  {
   "cell_type": "markdown",
   "id": "a0fc5395-3f27-437f-80f1-a0cdf102e400",
   "metadata": {},
   "source": [
    "## 使える範囲だけを抽出"
   ]
  },
  {
   "cell_type": "code",
   "execution_count": 33,
   "id": "1a3095ab-43dd-45a1-9618-ddab29ddce69",
   "metadata": {},
   "outputs": [],
   "source": [
    "angle_theta_export = angle_theta[(angle_theta >=0) & (angle_theta <totalangle_theta)]\n",
    "data_export = data[(angle_theta >=0) & (angle_theta <totalangle_theta)]\n",
    "angle_rad_export = 2 * np.pi * angle_theta_export /360"
   ]
  },
  {
   "cell_type": "code",
   "execution_count": 34,
   "id": "be587c1b-dbd0-41dd-ad8d-0794f8f00d82",
   "metadata": {},
   "outputs": [
    {
     "data": {
      "image/png": "[encoded data removed]",
      "text/plain": [
       "<Figure size 720x288 with 2 Axes>"
      ]
     },
     "metadata": {
      "needs_background": "light"
     },
     "output_type": "display_data"
    }
   ],
   "source": [
    "fig = plt.figure(figsize=(10,4))\n",
    "ax1 = fig.add_subplot(1,2,1)\n",
    "ax1.plot(angle_theta, data)\n",
    "ax1.plot(angle_theta_export, data_export)\n",
    "ax1.set_xlabel('angle (theta)')\n",
    "\n",
    "ax2 = fig.add_subplot(1,2,2)\n",
    "ax2.plot(angle_theta, data, '-o')\n",
    "ax2.plot(angle_theta_export, data_export, '-o')\n",
    "ax2.set_xlim(-30,25)\n",
    "#ax2.set_ylim(0,5200)\n",
    "ax2.set_xlabel('angle (theta)')\n",
    "\n",
    "plt.tight_layout()\n",
    "plt.show()"
   ]
  },
  {
   "cell_type": "markdown",
   "id": "a21aa854-cb73-45cf-a80e-1e66347487d9",
   "metadata": {},
   "source": [
    "## 極座標プロット"
   ]
  },
  {
   "cell_type": "code",
   "execution_count": 61,
   "id": "5aa36c02-56a6-43e1-ba4a-2cd7b2a8f502",
   "metadata": {},
   "outputs": [
    {
     "data": {
      "image/png": "[encoded data removed]",
      "text/plain": [
       "<Figure size 432x288 with 1 Axes>"
      ]
     },
     "metadata": {
      "needs_background": "light"
     },
     "output_type": "display_data"
    }
   ],
   "source": [
    "filename = 'shg.jpg'\n",
    "outfile = os.path.join(dirname, filename)\n",
    "\n",
    "fig=plt.figure()\n",
    "ax = plt.subplot(111, projection=\"polar\")\n",
    "#ax.set_theta_direction(1), -1\n",
    "plt.plot(angle_rad_export, data_export, '-o')\n",
    "#ax.set_rmax(14000.0)\n",
    "ax.set_theta_direction('clockwise')\n",
    "ax.set_theta_zero_location(\"W\")\n",
    "#ax.set_rmin(0)\n",
    "plt.show()\n",
    "fig.savefig(outfile, dpi=300)"
   ]
  },
  {
   "cell_type": "code",
   "execution_count": 60,
   "id": "b519b633-1489-4c92-aafc-21a9ba067315",
   "metadata": {},
   "outputs": [
    {
     "data": {
      "image/png": "[encoded data removed]",
      "text/plain": [
       "<Figure size 432x288 with 1 Axes>"
      ]
     },
     "metadata": {
      "needs_background": "light"
     },
     "output_type": "display_data"
    }
   ],
   "source": [
    "filename = 'shg.jpg'\n",
    "outfile = os.path.join(dirname, filename)\n",
    "\n",
    "fig=plt.figure()\n",
    "ax = plt.subplot(111, projection=\"polar\")\n",
    "#ax.set_theta_direction(1), -1\n",
    "plt.plot(angle_rad_export, data_export, '-o')\n",
    "ax.set_rmax(14000.0)\n",
    "ax.set_theta_direction('anticlockwise')\n",
    "#ax.set_rmin(0)\n",
    "plt.show()\n",
    "fig.savefig(outfile, dpi=300)"
   ]
  },
  {
   "cell_type": "markdown",
   "id": "1171ee13-ae23-4aab-8161-cbffd733c506",
   "metadata": {},
   "source": [
    "## データの保存"
   ]
  },
  {
   "cell_type": "code",
   "execution_count": 36,
   "id": "26fe8d2d-e428-4457-bad5-abd182bcfd30",
   "metadata": {},
   "outputs": [
    {
     "data": {
      "text/html": [
       "<div>\n",
       "<style scoped>\n",
       "    .dataframe tbody tr th:only-of-type {\n",
       "        vertical-align: middle;\n",
       "    }\n",
       "\n",
       "    .dataframe tbody tr th {\n",
       "        vertical-align: top;\n",
       "    }\n",
       "\n",
       "    .dataframe thead th {\n",
       "        text-align: right;\n",
       "    }\n",
       "</style>\n",
       "<table border=\"1\" class=\"dataframe\">\n",
       "  <thead>\n",
       "    <tr style=\"text-align: right;\">\n",
       "      <th></th>\n",
       "      <th>angle_theta</th>\n",
       "      <th>data</th>\n",
       "    </tr>\n",
       "  </thead>\n",
       "  <tbody>\n",
       "    <tr>\n",
       "      <th>0</th>\n",
       "      <td>0.000</td>\n",
       "      <td>9033.073433</td>\n",
       "    </tr>\n",
       "    <tr>\n",
       "      <th>1</th>\n",
       "      <td>2.545</td>\n",
       "      <td>8875.798539</td>\n",
       "    </tr>\n",
       "    <tr>\n",
       "      <th>2</th>\n",
       "      <td>5.090</td>\n",
       "      <td>9525.627067</td>\n",
       "    </tr>\n",
       "  </tbody>\n",
       "</table>\n",
       "</div>"
      ],
      "text/plain": [
       "   angle_theta         data\n",
       "0        0.000  9033.073433\n",
       "1        2.545  8875.798539\n",
       "2        5.090  9525.627067"
      ]
     },
     "execution_count": 36,
     "metadata": {},
     "output_type": "execute_result"
    }
   ],
   "source": [
    "df_analized = pd.DataFrame(angle_theta_export)\n",
    "df_analized.columns = ['angle_theta']\n",
    "df_analized['data'] = pd.DataFrame(data_export)\n",
    "\n",
    "filename ='analyzed.csv'\n",
    "outfile = os.path.join(dirname, filename)\n",
    "df_analized.to_csv(outfile, index = False)\n",
    "df_analized.head(3)"
   ]
  },
  {
   "cell_type": "code",
   "execution_count": null,
   "id": "839f8cd4-4e88-4576-890e-2cb4e3b50db4",
   "metadata": {},
   "outputs": [],
   "source": []
  }
 ],
 "metadata": {
  "kernelspec": {
   "display_name": "Python 3 (ipykernel)",
   "language": "python",
   "name": "python3"
  },
  "language_info": {
   "codemirror_mode": {
    "name": "ipython",
    "version": 3
   },
   "file_extension": ".py",
   "mimetype": "text/x-python",
   "name": "python",
   "nbconvert_exporter": "python",
   "pygments_lexer": "ipython3",
   "version": "3.9.12"
  },
  "toc-autonumbering": true
 },
 "nbformat": 4,
 "nbformat_minor": 5
}
